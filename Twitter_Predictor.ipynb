{
 "cells": [
  {
   "cell_type": "markdown",
   "metadata": {},
   "source": [
    "# INET 4061 Final Project\n",
    "# Twitter Prediction\n",
    "\n",
    "### Evan Ditter and Thomas Tang\n",
    "\n",
    "## Overview\n",
    "Social Media has become a medium that people all over the world use to communicate and show off what they have been doing. Ranging from the very business oriented LinkedIn to the silly Tik Tok videos, Social Media has become a place where businesses are trying to put their foot in to get the younger generations aware.\n",
    "\n",
    "This project will explore using classification to begin with on a person's tweets to find out how much traffic they may get. By traffic, we mean likes, retweets, followers, tweet.id, number of tweets, and any other twitter metadata from the Twitter API. From a individual's perspective, these measures will help you get the largest sphere of influence. From a business perspective the larger your influence, the more marketing you can get for your business. \n",
    "\n",
    "We will start out with scraping Twitter's API for tweets and perform classification on the tweets to see how easy it is to distinguish someone's twitter fame.\n",
    "\n",
    "**References:**  \n",
    "https://twitter.com/Predict_Popular  \n",
    "https://www.promptcloud.com/blog/scrape-twitter-data-using-python-r/  \n",
    "https://programminghistorian.org/en/lessons/counting-frequencies  \n",
    "https://www.earthdatascience.org/courses/earth-analytics-python/using-apis-natural-language-processing-twitter/get-and-use-twitter-data-in-python/  "
   ]
  },
  {
   "cell_type": "markdown",
   "metadata": {},
   "source": [
    "## Data"
   ]
  },
  {
   "cell_type": "code",
   "execution_count": 1,
   "metadata": {},
   "outputs": [],
   "source": [
    "import tweepy as tw\n",
    "import pandas as pd\n",
    "import matplotlib.pyplot as plt\n",
    "import seaborn as sns\n",
    "import statsmodels.api as sm\n",
    "import numpy as np\n",
    "\n",
    "import json\n",
    "import csv\n",
    "\n",
    "from sklearn.ensemble import RandomForestClassifier\n",
    "from sklearn.preprocessing import StandardScaler\n",
    "from sklearn.decomposition import PCA\n",
    "from sklearn.model_selection import train_test_split\n",
    "from sklearn.metrics import roc_auc_score\n",
    "from sklearn.metrics import roc_curve\n",
    "from sklearn.linear_model import LogisticRegression\n",
    "from sklearn import metrics\n",
    "from sklearn import linear_model\n",
    "from sklearn.metrics import confusion_matrix\n",
    "from sklearn.metrics import roc_auc_score\n",
    "from sklearn import tree\n",
    "from sklearn import model_selection\n",
    "from sklearn.metrics import roc_curve, auc\n",
    "from sklearn.ensemble import RandomForestClassifier\n",
    "from sklearn.ensemble import BaggingClassifier\n",
    "from sklearn.ensemble import AdaBoostClassifier\n",
    "\n",
    "from textblob import TextBlob\n",
    "import string\n",
    "import preprocessor as p"
   ]
  },
  {
   "cell_type": "code",
   "execution_count": 2,
   "metadata": {},
   "outputs": [],
   "source": [
    "with open('twitter_credentials.json') as cred_data:\n",
    "    info = json.load(cred_data)\n",
    "    consumer_key = info['CONSUMER_KEY']\n",
    "    consumer_secret = info['CONSUMER_SECRET']\n",
    "    access_key = info['ACCESS_KEY']\n",
    "    access_secret = info['ACCESS_SECRET']"
   ]
  },
  {
   "cell_type": "code",
   "execution_count": 3,
   "metadata": {},
   "outputs": [],
   "source": [
    "auth = tw.OAuthHandler(consumer_key, consumer_secret)\n",
    "auth.set_access_token(access_key, access_secret)\n",
    "api = tw.API(auth, wait_on_rate_limit=True)"
   ]
  },
  {
   "cell_type": "markdown",
   "metadata": {},
   "source": [
    "The above code establishes twitter developer credentials and lots of the imports we will be using.  \n",
    "\n",
    "Below is the biggest code segment we had to create which went through our accounts following and got all the tweets from the users. We tried to get a random generation of famous and \"not famous\" people such that there is a relatively equal number of tweets from the two sections. "
   ]
  },
  {
   "cell_type": "code",
   "execution_count": 4,
   "metadata": {},
   "outputs": [],
   "source": [
    "data_col = []\n",
    "def get_all_tweets(screen_name):\n",
    "    #Twitter only allows access to a users most recent 3240 tweets with this method\n",
    "    #authorize twitter, initialize tweepy\n",
    "    auth = tw.OAuthHandler(consumer_key, consumer_secret)\n",
    "    auth.set_access_token(access_key, access_secret)\n",
    "    api = tw.API(auth)\n",
    "\n",
    "    #initialize a list to hold all the tweepy Tweets\n",
    "    alltweets = []\n",
    "    #make initial request for most recent tweets (200 is the maximum allowed count)\n",
    "    new_tweets = api.user_timeline(screen_name = screen_name,count=200)\n",
    "    #save most recent tweets\n",
    "    alltweets.extend(new_tweets)\n",
    "\n",
    "    #save the id of the oldest tweet less one\n",
    "    oldest = alltweets[-1].id - 1\n",
    "\n",
    "    #keep grabbing tweets until there are no tweets left to grab\n",
    "    while len(new_tweets) > 0:\n",
    "        print(\"getting tweets before %s\" % (oldest))\n",
    "\n",
    "        #all subsiquent requests use the max_id param to prevent duplicates\n",
    "        new_tweets = api.user_timeline(screen_name = screen_name,count=200,max_id=oldest)\n",
    "                \n",
    "        #save most recent tweets\n",
    "        alltweets.extend(new_tweets)\n",
    "        \n",
    "        #update the id of the oldest tweet less one\n",
    "        oldest = alltweets[-1].id - 1\n",
    "\n",
    "        print(\"...%s tweets downloaded so far\" % (len(alltweets)))\n",
    "\n",
    "#     #transform the tweepy tweets into a 2D array that will populate the csv\n",
    "#     outtweets = [[tweet.id_str, tweet.created_at, tweet.text.encode(\"utf-8\")] for tweet in alltweets]\n",
    "\n",
    "        for tweet in alltweets:\n",
    "            if (not tweet.retweeted) and ('RT @' not in tweet.text):\n",
    "                if 'media' in tweet.entities:\n",
    "                    type = 0\n",
    "                else:\n",
    "                    type = 1\n",
    "                if tweet in data_col:\n",
    "                    return\n",
    "                else:\n",
    "                    data_col.append([tweet.id,\n",
    "                                     tweet.text,\n",
    "                                     tweet.user.name,\n",
    "                                     len(tweet.text), \n",
    "                                     tweet.user.statuses_count, \n",
    "                                     tweet.user.favourites_count, \n",
    "                                     tweet.user.location,\n",
    "                                     type,\n",
    "                                     tweet.retweet_count,\n",
    "                                     tweet.favorite_count,\n",
    "                                     tweet.source,\n",
    "                                     tweet.user.followers_count])\n"
   ]
  },
  {
   "cell_type": "markdown",
   "metadata": {},
   "source": [
    "The code below did the actual compilation of tweets and took over 2 hours to complete. In total there were about 1.5 million tweets. Commented out for now as we will use the csv in the future to get the dataset."
   ]
  },
  {
   "cell_type": "code",
   "execution_count": 5,
   "metadata": {},
   "outputs": [],
   "source": [
    "# for friend in tw.Cursor(api.friends).items():\n",
    "#     friend_name = friend.screen_name\n",
    "#     num_tweets = api.get_user(friend_name).statuses_count\n",
    "#     if(num_tweets > 0):\n",
    "#         get_all_tweets(friend_name)\n"
   ]
  },
  {
   "cell_type": "code",
   "execution_count": 6,
   "metadata": {},
   "outputs": [],
   "source": [
    "# df = pd.DataFrame(data=data_col, \n",
    "#             columns=['tweet.id',\n",
    "#                      'text',\n",
    "#                      'user',\n",
    "#                      'textlen', \n",
    "#                      'usrtweets', \n",
    "#                      'usrfavs', \n",
    "#                      'usrloc',\n",
    "#                      'istext',\n",
    "#                      'rtcnt',\n",
    "#                      'twtfavs',\n",
    "#                      'twtsrc',\n",
    "#                      'followers'])\n",
    "\n",
    "# df"
   ]
  },
  {
   "cell_type": "code",
   "execution_count": 8,
   "metadata": {},
   "outputs": [],
   "source": [
    "#df.to_csv(\"tweet_data\", sep='\\t', encoding='utf-8')"
   ]
  },
  {
   "cell_type": "markdown",
   "metadata": {},
   "source": [
    "The above code was used in the inital run to save the dataframe to a csv."
   ]
  },
  {
   "cell_type": "code",
   "execution_count": 9,
   "metadata": {},
   "outputs": [
    {
     "name": "stderr",
     "output_type": "stream",
     "text": [
      "C:\\Users\\EvansPC\\Anaconda3\\lib\\site-packages\\numpy\\lib\\arraysetops.py:522: FutureWarning: elementwise comparison failed; returning scalar instead, but in the future will perform elementwise comparison\n",
      "  mask |= (ar1 == a)\n"
     ]
    }
   ],
   "source": [
    "df = pd.read_csv(\"tweet_data.csv\", sep='\\t', encoding='utf-8', error_bad_lines=False, index_col=0)\n",
    "# sep='delimiter', header=None"
   ]
  },
  {
   "cell_type": "code",
   "execution_count": 10,
   "metadata": {},
   "outputs": [
    {
     "data": {
      "text/html": [
       "<div>\n",
       "<style scoped>\n",
       "    .dataframe tbody tr th:only-of-type {\n",
       "        vertical-align: middle;\n",
       "    }\n",
       "\n",
       "    .dataframe tbody tr th {\n",
       "        vertical-align: top;\n",
       "    }\n",
       "\n",
       "    .dataframe thead th {\n",
       "        text-align: right;\n",
       "    }\n",
       "</style>\n",
       "<table border=\"1\" class=\"dataframe\">\n",
       "  <thead>\n",
       "    <tr style=\"text-align: right;\">\n",
       "      <th></th>\n",
       "      <th>tweet.id</th>\n",
       "      <th>text</th>\n",
       "      <th>user</th>\n",
       "      <th>textlen</th>\n",
       "      <th>usrtweets</th>\n",
       "      <th>usrfavs</th>\n",
       "      <th>usrloc</th>\n",
       "      <th>istext</th>\n",
       "      <th>rtcnt</th>\n",
       "      <th>twtfavs</th>\n",
       "      <th>twtsrc</th>\n",
       "      <th>followers</th>\n",
       "    </tr>\n",
       "  </thead>\n",
       "  <tbody>\n",
       "    <tr>\n",
       "      <th>0</th>\n",
       "      <td>1124162239685173248</td>\n",
       "      <td>@RiseFallNick @brianherrienn @rosser_stevens t...</td>\n",
       "      <td>Carson 🚗☀️</td>\n",
       "      <td>63</td>\n",
       "      <td>1085</td>\n",
       "      <td>3378</td>\n",
       "      <td>Tilted Towers</td>\n",
       "      <td>1</td>\n",
       "      <td>0</td>\n",
       "      <td>0</td>\n",
       "      <td>Twitter for iPhone</td>\n",
       "      <td>200</td>\n",
       "    </tr>\n",
       "    <tr>\n",
       "      <th>1</th>\n",
       "      <td>1124144807021023232</td>\n",
       "      <td>@Chomaco_huebon @netflix @ourplanet watch f is...</td>\n",
       "      <td>Carson 🚗☀️</td>\n",
       "      <td>57</td>\n",
       "      <td>1085</td>\n",
       "      <td>3378</td>\n",
       "      <td>Tilted Towers</td>\n",
       "      <td>1</td>\n",
       "      <td>0</td>\n",
       "      <td>1</td>\n",
       "      <td>Twitter for iPhone</td>\n",
       "      <td>200</td>\n",
       "    </tr>\n",
       "    <tr>\n",
       "      <th>2</th>\n",
       "      <td>1124144735717875712</td>\n",
       "      <td>@ClaytonMoody1 sweet tea could be better</td>\n",
       "      <td>Carson 🚗☀️</td>\n",
       "      <td>40</td>\n",
       "      <td>1085</td>\n",
       "      <td>3378</td>\n",
       "      <td>Tilted Towers</td>\n",
       "      <td>1</td>\n",
       "      <td>0</td>\n",
       "      <td>0</td>\n",
       "      <td>Twitter for iPhone</td>\n",
       "      <td>200</td>\n",
       "    </tr>\n",
       "    <tr>\n",
       "      <th>3</th>\n",
       "      <td>1123795237552496640</td>\n",
       "      <td>@steveaustinBSR @Browns_Daily @Browns gimme a ...</td>\n",
       "      <td>Carson 🚗☀️</td>\n",
       "      <td>55</td>\n",
       "      <td>1085</td>\n",
       "      <td>3378</td>\n",
       "      <td>Tilted Towers</td>\n",
       "      <td>1</td>\n",
       "      <td>0</td>\n",
       "      <td>0</td>\n",
       "      <td>Twitter for iPhone</td>\n",
       "      <td>200</td>\n",
       "    </tr>\n",
       "    <tr>\n",
       "      <th>4</th>\n",
       "      <td>1123709329532772352</td>\n",
       "      <td>i still wonder to this day @baileigh_cook15 ht...</td>\n",
       "      <td>Carson 🚗☀️</td>\n",
       "      <td>67</td>\n",
       "      <td>1085</td>\n",
       "      <td>3378</td>\n",
       "      <td>Tilted Towers</td>\n",
       "      <td>0</td>\n",
       "      <td>0</td>\n",
       "      <td>3</td>\n",
       "      <td>Twitter for iPhone</td>\n",
       "      <td>200</td>\n",
       "    </tr>\n",
       "  </tbody>\n",
       "</table>\n",
       "</div>"
      ],
      "text/plain": [
       "              tweet.id                                               text  \\\n",
       "0  1124162239685173248  @RiseFallNick @brianherrienn @rosser_stevens t...   \n",
       "1  1124144807021023232  @Chomaco_huebon @netflix @ourplanet watch f is...   \n",
       "2  1124144735717875712           @ClaytonMoody1 sweet tea could be better   \n",
       "3  1123795237552496640  @steveaustinBSR @Browns_Daily @Browns gimme a ...   \n",
       "4  1123709329532772352  i still wonder to this day @baileigh_cook15 ht...   \n",
       "\n",
       "         user  textlen  usrtweets  usrfavs         usrloc  istext  rtcnt  \\\n",
       "0  Carson 🚗☀️       63       1085     3378  Tilted Towers       1      0   \n",
       "1  Carson 🚗☀️       57       1085     3378  Tilted Towers       1      0   \n",
       "2  Carson 🚗☀️       40       1085     3378  Tilted Towers       1      0   \n",
       "3  Carson 🚗☀️       55       1085     3378  Tilted Towers       1      0   \n",
       "4  Carson 🚗☀️       67       1085     3378  Tilted Towers       0      0   \n",
       "\n",
       "   twtfavs              twtsrc  followers  \n",
       "0        0  Twitter for iPhone        200  \n",
       "1        1  Twitter for iPhone        200  \n",
       "2        0  Twitter for iPhone        200  \n",
       "3        0  Twitter for iPhone        200  \n",
       "4        3  Twitter for iPhone        200  "
      ]
     },
     "execution_count": 10,
     "metadata": {},
     "output_type": "execute_result"
    }
   ],
   "source": [
    "df.head()"
   ]
  },
  {
   "cell_type": "code",
   "execution_count": 11,
   "metadata": {},
   "outputs": [
    {
     "data": {
      "text/html": [
       "<div>\n",
       "<style scoped>\n",
       "    .dataframe tbody tr th:only-of-type {\n",
       "        vertical-align: middle;\n",
       "    }\n",
       "\n",
       "    .dataframe tbody tr th {\n",
       "        vertical-align: top;\n",
       "    }\n",
       "\n",
       "    .dataframe thead th {\n",
       "        text-align: right;\n",
       "    }\n",
       "</style>\n",
       "<table border=\"1\" class=\"dataframe\">\n",
       "  <thead>\n",
       "    <tr style=\"text-align: right;\">\n",
       "      <th></th>\n",
       "      <th>tweet.id</th>\n",
       "      <th>text</th>\n",
       "      <th>user</th>\n",
       "      <th>textlen</th>\n",
       "      <th>usrtweets</th>\n",
       "      <th>usrfavs</th>\n",
       "      <th>usrloc</th>\n",
       "      <th>istext</th>\n",
       "      <th>rtcnt</th>\n",
       "      <th>twtfavs</th>\n",
       "      <th>twtsrc</th>\n",
       "      <th>followers</th>\n",
       "    </tr>\n",
       "  </thead>\n",
       "  <tbody>\n",
       "    <tr>\n",
       "      <th>1475419</th>\n",
       "      <td>200356861269118976</td>\n",
       "      <td>.@_Julia_V Um... Nope. That was me. #consiprac...</td>\n",
       "      <td>Justin Timberlake</td>\n",
       "      <td>55</td>\n",
       "      <td>4078</td>\n",
       "      <td>400</td>\n",
       "      <td>Memphis, TN</td>\n",
       "      <td>1</td>\n",
       "      <td>14</td>\n",
       "      <td>22</td>\n",
       "      <td>Twitter Web Client</td>\n",
       "      <td>64908693</td>\n",
       "    </tr>\n",
       "    <tr>\n",
       "      <th>1475420</th>\n",
       "      <td>200354357064110080</td>\n",
       "      <td>@barackobama inspires me once again. True lead...</td>\n",
       "      <td>Justin Timberlake</td>\n",
       "      <td>139</td>\n",
       "      <td>4078</td>\n",
       "      <td>400</td>\n",
       "      <td>Memphis, TN</td>\n",
       "      <td>1</td>\n",
       "      <td>2522</td>\n",
       "      <td>493</td>\n",
       "      <td>Twitter Web Client</td>\n",
       "      <td>64908693</td>\n",
       "    </tr>\n",
       "    <tr>\n",
       "      <th>1475421</th>\n",
       "      <td>200314250365898752</td>\n",
       "      <td>It's up! It's live! @Homemint or http://t.co/m...</td>\n",
       "      <td>Justin Timberlake</td>\n",
       "      <td>82</td>\n",
       "      <td>4078</td>\n",
       "      <td>400</td>\n",
       "      <td>Memphis, TN</td>\n",
       "      <td>1</td>\n",
       "      <td>117</td>\n",
       "      <td>66</td>\n",
       "      <td>Twitter for BlackBerry®</td>\n",
       "      <td>64908693</td>\n",
       "    </tr>\n",
       "    <tr>\n",
       "      <th>1475422</th>\n",
       "      <td>200313607509114880</td>\n",
       "      <td>\"@Matt Morris: It's my BIRTHDAY! I'm happy to ...</td>\n",
       "      <td>Justin Timberlake</td>\n",
       "      <td>113</td>\n",
       "      <td>4078</td>\n",
       "      <td>400</td>\n",
       "      <td>Memphis, TN</td>\n",
       "      <td>1</td>\n",
       "      <td>42</td>\n",
       "      <td>47</td>\n",
       "      <td>Twitter for BlackBerry®</td>\n",
       "      <td>64908693</td>\n",
       "    </tr>\n",
       "    <tr>\n",
       "      <th>1475423</th>\n",
       "      <td>200055172133695488</td>\n",
       "      <td>#UseTittiesInAMovieTitle  Indiana Jones and th...</td>\n",
       "      <td>Justin Timberlake</td>\n",
       "      <td>63</td>\n",
       "      <td>4078</td>\n",
       "      <td>400</td>\n",
       "      <td>Memphis, TN</td>\n",
       "      <td>1</td>\n",
       "      <td>1355</td>\n",
       "      <td>386</td>\n",
       "      <td>Twitter Web Client</td>\n",
       "      <td>64908693</td>\n",
       "    </tr>\n",
       "  </tbody>\n",
       "</table>\n",
       "</div>"
      ],
      "text/plain": [
       "                   tweet.id  \\\n",
       "1475419  200356861269118976   \n",
       "1475420  200354357064110080   \n",
       "1475421  200314250365898752   \n",
       "1475422  200313607509114880   \n",
       "1475423  200055172133695488   \n",
       "\n",
       "                                                      text               user  \\\n",
       "1475419  .@_Julia_V Um... Nope. That was me. #consiprac...  Justin Timberlake   \n",
       "1475420  @barackobama inspires me once again. True lead...  Justin Timberlake   \n",
       "1475421  It's up! It's live! @Homemint or http://t.co/m...  Justin Timberlake   \n",
       "1475422  \"@Matt Morris: It's my BIRTHDAY! I'm happy to ...  Justin Timberlake   \n",
       "1475423  #UseTittiesInAMovieTitle  Indiana Jones and th...  Justin Timberlake   \n",
       "\n",
       "         textlen  usrtweets  usrfavs       usrloc  istext  rtcnt  twtfavs  \\\n",
       "1475419       55       4078      400  Memphis, TN       1     14       22   \n",
       "1475420      139       4078      400  Memphis, TN       1   2522      493   \n",
       "1475421       82       4078      400  Memphis, TN       1    117       66   \n",
       "1475422      113       4078      400  Memphis, TN       1     42       47   \n",
       "1475423       63       4078      400  Memphis, TN       1   1355      386   \n",
       "\n",
       "                          twtsrc  followers  \n",
       "1475419       Twitter Web Client   64908693  \n",
       "1475420       Twitter Web Client   64908693  \n",
       "1475421  Twitter for BlackBerry®   64908693  \n",
       "1475422  Twitter for BlackBerry®   64908693  \n",
       "1475423       Twitter Web Client   64908693  "
      ]
     },
     "execution_count": 11,
     "metadata": {},
     "output_type": "execute_result"
    }
   ],
   "source": [
    "df.tail()"
   ]
  },
  {
   "cell_type": "markdown",
   "metadata": {},
   "source": [
    "## Exploratory Data Analysis and Models"
   ]
  },
  {
   "cell_type": "markdown",
   "metadata": {},
   "source": [
    "Below we separated the different users into famous and not famous. The criteria we used to determine a famous classification was if a person has over 1,000,000 followers on twitter."
   ]
  },
  {
   "cell_type": "code",
   "execution_count": 12,
   "metadata": {},
   "outputs": [],
   "source": [
    "bins = []\n",
    "for item in df['followers']:\n",
    "    if item > 1000000:\n",
    "        bins.append(1)\n",
    "    else:\n",
    "        bins.append(0)\n"
   ]
  },
  {
   "cell_type": "code",
   "execution_count": 13,
   "metadata": {},
   "outputs": [],
   "source": [
    "df['fame'] = bins\n",
    "# setting a fame classification attribute for people with over 50000 followers."
   ]
  },
  {
   "cell_type": "code",
   "execution_count": 14,
   "metadata": {
    "scrolled": true
   },
   "outputs": [
    {
     "name": "stdout",
     "output_type": "stream",
     "text": [
      "Not Famous 705711\n",
      "Famous: 769713\n"
     ]
    },
    {
     "data": {
      "image/png": "[encoded data removed]",
      "text/plain": [
       "<Figure size 432x288 with 1 Axes>"
      ]
     },
     "metadata": {
      "needs_background": "light"
     },
     "output_type": "display_data"
    }
   ],
   "source": [
    "target_count = df.fame.value_counts()\n",
    "print('Not Famous', target_count[0])\n",
    "print('Famous:', target_count[1])\n",
    "target_count.plot(kind='bar', title='Count (Famous Tweets)');"
   ]
  },
  {
   "cell_type": "markdown",
   "metadata": {},
   "source": [
    "For the purpose of this experiment, we define 1,000,000 followers to be considered famous. It is a relatively even class distribution.  \n",
    "47.83% not famous tweets  \n",
    "52.17% famous tweets  "
   ]
  },
  {
   "cell_type": "code",
   "execution_count": 15,
   "metadata": {},
   "outputs": [],
   "source": [
    "df_copy = df.copy()"
   ]
  },
  {
   "cell_type": "code",
   "execution_count": 16,
   "metadata": {},
   "outputs": [
    {
     "data": {
      "text/html": [
       "<div>\n",
       "<style scoped>\n",
       "    .dataframe tbody tr th:only-of-type {\n",
       "        vertical-align: middle;\n",
       "    }\n",
       "\n",
       "    .dataframe tbody tr th {\n",
       "        vertical-align: top;\n",
       "    }\n",
       "\n",
       "    .dataframe thead th {\n",
       "        text-align: right;\n",
       "    }\n",
       "</style>\n",
       "<table border=\"1\" class=\"dataframe\">\n",
       "  <thead>\n",
       "    <tr style=\"text-align: right;\">\n",
       "      <th></th>\n",
       "      <th>tweet.id</th>\n",
       "      <th>text</th>\n",
       "      <th>user</th>\n",
       "      <th>textlen</th>\n",
       "      <th>usrtweets</th>\n",
       "      <th>usrfavs</th>\n",
       "      <th>usrloc</th>\n",
       "      <th>istext</th>\n",
       "      <th>rtcnt</th>\n",
       "      <th>twtfavs</th>\n",
       "      <th>twtsrc</th>\n",
       "      <th>followers</th>\n",
       "      <th>fame</th>\n",
       "    </tr>\n",
       "  </thead>\n",
       "  <tbody>\n",
       "    <tr>\n",
       "      <th>0</th>\n",
       "      <td>140829</td>\n",
       "      <td>22462</td>\n",
       "      <td>13</td>\n",
       "      <td>62</td>\n",
       "      <td>51</td>\n",
       "      <td>78</td>\n",
       "      <td>59</td>\n",
       "      <td>1</td>\n",
       "      <td>0</td>\n",
       "      <td>0</td>\n",
       "      <td>67</td>\n",
       "      <td>41</td>\n",
       "      <td>0</td>\n",
       "    </tr>\n",
       "    <tr>\n",
       "      <th>1</th>\n",
       "      <td>140820</td>\n",
       "      <td>11573</td>\n",
       "      <td>13</td>\n",
       "      <td>56</td>\n",
       "      <td>51</td>\n",
       "      <td>78</td>\n",
       "      <td>59</td>\n",
       "      <td>1</td>\n",
       "      <td>0</td>\n",
       "      <td>1</td>\n",
       "      <td>67</td>\n",
       "      <td>41</td>\n",
       "      <td>0</td>\n",
       "    </tr>\n",
       "    <tr>\n",
       "      <th>2</th>\n",
       "      <td>140819</td>\n",
       "      <td>11775</td>\n",
       "      <td>13</td>\n",
       "      <td>39</td>\n",
       "      <td>51</td>\n",
       "      <td>78</td>\n",
       "      <td>59</td>\n",
       "      <td>1</td>\n",
       "      <td>0</td>\n",
       "      <td>0</td>\n",
       "      <td>67</td>\n",
       "      <td>41</td>\n",
       "      <td>0</td>\n",
       "    </tr>\n",
       "    <tr>\n",
       "      <th>3</th>\n",
       "      <td>140565</td>\n",
       "      <td>41739</td>\n",
       "      <td>13</td>\n",
       "      <td>54</td>\n",
       "      <td>51</td>\n",
       "      <td>78</td>\n",
       "      <td>59</td>\n",
       "      <td>1</td>\n",
       "      <td>0</td>\n",
       "      <td>0</td>\n",
       "      <td>67</td>\n",
       "      <td>41</td>\n",
       "      <td>0</td>\n",
       "    </tr>\n",
       "    <tr>\n",
       "      <th>4</th>\n",
       "      <td>140471</td>\n",
       "      <td>122513</td>\n",
       "      <td>13</td>\n",
       "      <td>66</td>\n",
       "      <td>51</td>\n",
       "      <td>78</td>\n",
       "      <td>59</td>\n",
       "      <td>0</td>\n",
       "      <td>0</td>\n",
       "      <td>3</td>\n",
       "      <td>67</td>\n",
       "      <td>41</td>\n",
       "      <td>0</td>\n",
       "    </tr>\n",
       "  </tbody>\n",
       "</table>\n",
       "</div>"
      ],
      "text/plain": [
       "   tweet.id    text  user  textlen  usrtweets  usrfavs  usrloc  istext  rtcnt  \\\n",
       "0    140829   22462    13       62         51       78      59       1      0   \n",
       "1    140820   11573    13       56         51       78      59       1      0   \n",
       "2    140819   11775    13       39         51       78      59       1      0   \n",
       "3    140565   41739    13       54         51       78      59       1      0   \n",
       "4    140471  122513    13       66         51       78      59       0      0   \n",
       "\n",
       "   twtfavs  twtsrc  followers  fame  \n",
       "0        0      67         41     0  \n",
       "1        1      67         41     0  \n",
       "2        0      67         41     0  \n",
       "3        0      67         41     0  \n",
       "4        3      67         41     0  "
      ]
     },
     "execution_count": 16,
     "metadata": {},
     "output_type": "execute_result"
    }
   ],
   "source": [
    "for i in df_copy:\n",
    "    df_copy[i] = df_copy[i].astype(\"category\").cat.codes\n",
    "    \n",
    "df_copy.head()"
   ]
  },
  {
   "cell_type": "code",
   "execution_count": 17,
   "metadata": {},
   "outputs": [],
   "source": [
    "X = df_copy.drop([\"fame\", \"tweet.id\", \"text\", \"user\", \"followers\"], axis = 1) #remove unimportant fields\n",
    "y = df_copy[\"fame\"]\n",
    "\n",
    "X_train, X_test, y_train, y_test = train_test_split(X, y, test_size = 0.2, random_state = 5)\n"
   ]
  },
  {
   "cell_type": "code",
   "execution_count": 18,
   "metadata": {},
   "outputs": [
    {
     "name": "stdout",
     "output_type": "stream",
     "text": [
      "textlen                    =  0.0174616860576955\n",
      "usrtweets                  =  0.19184555473443796\n",
      "usrfavs                    =  0.21403112754596237\n",
      "usrloc                     =  0.1456572311467535\n",
      "istext                     =  0.0031157200580347855\n",
      "rtcnt                      =  0.18555147738238248\n",
      "twtfavs                    =  0.19953070318050778\n",
      "twtsrc                     =  0.04280649989422566\n"
     ]
    }
   ],
   "source": [
    "rnd_clf = RandomForestClassifier(n_estimators=10, n_jobs=-1, random_state=42)\n",
    "rnd_clf.fit(X_train, y_train)\n",
    "label_col = []\n",
    "imp_col = []\n",
    "for name, importance in zip(X.columns.values, rnd_clf.feature_importances_):\n",
    "    imp_col += [importance]\n",
    "    label_col += [name]\n",
    "    print('{:<25}  {:1}  {:<12}'.format(name, \"=\", importance))"
   ]
  },
  {
   "cell_type": "markdown",
   "metadata": {},
   "source": [
    "The above output showed the importance of the different features. This is depicted as well in the graph below. Usrfavs, usrtweets, rtcnt, twtfavs, and usrloc we shown to be the most important features. The most interesting of which is usrloc which tells us that where someone is tweetting from is a big indication of their fame level."
   ]
  },
  {
   "cell_type": "code",
   "execution_count": 19,
   "metadata": {},
   "outputs": [
    {
     "data": {
      "image/png": "[encoded data removed]",
      "text/plain": [
       "<Figure size 432x288 with 1 Axes>"
      ]
     },
     "metadata": {
      "needs_background": "light"
     },
     "output_type": "display_data"
    }
   ],
   "source": [
    "y_pos = np.arange(len(X.columns.values))\n",
    "y_pos = np.sort(y_pos)\n",
    "\n",
    "plt.barh(y_pos, imp_col, align='center', alpha=0.5)\n",
    "plt.yticks(y_pos, label_col)\n",
    "plt.xlabel('Relative Importance')\n",
    "plt.title('Feature Importance Tweet Features')\n",
    " \n",
    "plt.show()"
   ]
  },
  {
   "cell_type": "code",
   "execution_count": 20,
   "metadata": {
    "scrolled": true
   },
   "outputs": [],
   "source": [
    "model = RandomForestClassifier(n_estimators = 3)\n",
    "model.fit(X_train, y_train)\n",
    "y_pred = model.predict(X_test)"
   ]
  },
  {
   "cell_type": "code",
   "execution_count": 21,
   "metadata": {},
   "outputs": [
    {
     "data": {
      "image/png": "[encoded data removed]",
      "text/plain": [
       "<Figure size 432x288 with 1 Axes>"
      ]
     },
     "metadata": {
      "needs_background": "light"
     },
     "output_type": "display_data"
    }
   ],
   "source": [
    "logit_roc_auc = roc_auc_score(y_test, y_pred)\n",
    "fpr, tpr, thresholds = roc_curve(y_test, y_pred)\n",
    "plt.figure()\n",
    "plt.plot(fpr, tpr, label='Random Forest (area = %0.4f)' % logit_roc_auc)\n",
    "plt.plot([0, 1], [0, 1],'r--')\n",
    "plt.xlim([0.0, 1.0])\n",
    "plt.ylim([0.0, 1.05])\n",
    "plt.xlabel('False Positive Rate')\n",
    "plt.ylabel('True Positive Rate')\n",
    "plt.title('Receiver operating characteristic')\n",
    "plt.legend(loc=\"lower right\")\n",
    "plt.show()"
   ]
  },
  {
   "cell_type": "markdown",
   "metadata": {},
   "source": [
    "The fact that the results were perfect demonstrates the fact that twitter metadata can easily predict if a person is famous or not. This could be how Twitter helps determine if an account is verified or not."
   ]
  },
  {
   "cell_type": "code",
   "execution_count": 92,
   "metadata": {},
   "outputs": [
    {
     "name": "stdout",
     "output_type": "stream",
     "text": [
      "Accuracy:  0.6913499500144026\n"
     ]
    }
   ],
   "source": [
    "X_test_rf = X_test.drop(['twtfavs','rtcnt','usrfavs','usrtweets','usrloc'], axis = 1)\n",
    "X_train_rf = X_train.drop(['twtfavs','rtcnt','usrfavs','usrtweets','usrloc'], axis = 1)\n",
    "# includes istext, textlen, twtsrc\n",
    "\n",
    "# Model Creation\n",
    "model = RandomForestClassifier(n_estimators = 10)\n",
    "model.fit(X_train_rf, y_train)\n",
    "y_pred_rf = model.predict(X_test_rf)\n",
    "\n",
    "print(\"Accuracy: \", model.score(X_test_rf, y_test))"
   ]
  },
  {
   "cell_type": "code",
   "execution_count": 93,
   "metadata": {},
   "outputs": [
    {
     "data": {
      "image/png": "[encoded data removed]",
      "text/plain": [
       "<Figure size 432x288 with 1 Axes>"
      ]
     },
     "metadata": {
      "needs_background": "light"
     },
     "output_type": "display_data"
    }
   ],
   "source": [
    "logit_roc_auc = roc_auc_score(y_test, y_pred_rf)\n",
    "fpr, tpr, thresholds = roc_curve(y_test, y_pred_rf)\n",
    "plt.figure()\n",
    "plt.plot(fpr, tpr, label='Non-fame influenced only (area = %0.4f)' % logit_roc_auc)\n",
    "plt.plot([0, 1], [0, 1],'r--')\n",
    "plt.xlim([0.0, 1.0])\n",
    "plt.ylim([0.0, 1.05])\n",
    "plt.xlabel('False Positive Rate')\n",
    "plt.ylabel('True Positive Rate')\n",
    "plt.title('Receiver operating characteristic')\n",
    "plt.legend(loc=\"lower right\")\n",
    "plt.show()"
   ]
  },
  {
   "cell_type": "markdown",
   "metadata": {},
   "source": [
    "The results above show that istext, textlen, twtsrc are not great predictors of someone's twitter fame"
   ]
  },
  {
   "cell_type": "code",
   "execution_count": 24,
   "metadata": {},
   "outputs": [
    {
     "name": "stdout",
     "output_type": "stream",
     "text": [
      "Accuracy:  1.0\n"
     ]
    }
   ],
   "source": [
    "X_test_rf = X_test.drop(['twtsrc','usrloc','usrfavs','istext','rtcnt','twtfavs','textlen'], axis = 1)\n",
    "X_train_rf = X_train.drop(['twtsrc','usrloc','usrfavs','istext','rtcnt','twtfavs','textlen'], axis = 1)\n",
    "\n",
    "# Model Creation\n",
    "model = RandomForestClassifier(n_estimators = 10)\n",
    "model.fit(X_train_rf, y_train)\n",
    "y_pred_rf = model.predict(X_test_rf)\n",
    "\n",
    "print(\"Accuracy: \", model.score(X_test_rf, y_test))"
   ]
  },
  {
   "cell_type": "code",
   "execution_count": 25,
   "metadata": {
    "scrolled": true
   },
   "outputs": [
    {
     "data": {
      "image/png": "[encoded data removed]",
      "text/plain": [
       "<Figure size 432x288 with 1 Axes>"
      ]
     },
     "metadata": {
      "needs_background": "light"
     },
     "output_type": "display_data"
    }
   ],
   "source": [
    "logit_roc_auc = roc_auc_score(y_test, y_pred_rf)\n",
    "fpr, tpr, thresholds = roc_curve(y_test, y_pred_rf)\n",
    "plt.figure()\n",
    "plt.plot(fpr, tpr, label='# of user tweets only (area = %0.4f)' % logit_roc_auc)\n",
    "plt.plot([0, 1], [0, 1],'r--')\n",
    "plt.xlim([0.0, 1.0])\n",
    "plt.ylim([0.0, 1.05])\n",
    "plt.xlabel('False Positive Rate')\n",
    "plt.ylabel('True Positive Rate')\n",
    "plt.title('Receiver operating characteristic')\n",
    "plt.legend(loc=\"lower right\")\n",
    "plt.show()"
   ]
  },
  {
   "cell_type": "code",
   "execution_count": 96,
   "metadata": {
    "scrolled": true
   },
   "outputs": [
    {
     "name": "stderr",
     "output_type": "stream",
     "text": [
      "C:\\Users\\EvansPC\\Anaconda3\\lib\\site-packages\\sklearn\\linear_model\\logistic.py:433: FutureWarning: Default solver will be changed to 'lbfgs' in 0.22. Specify a solver to silence this warning.\n",
      "  FutureWarning)\n"
     ]
    },
    {
     "data": {
      "image/png": "[encoded data removed]",
      "text/plain": [
       "<Figure size 432x288 with 1 Axes>"
      ]
     },
     "metadata": {
      "needs_background": "light"
     },
     "output_type": "display_data"
    }
   ],
   "source": [
    "from  sklearn.linear_model import LogisticRegression\n",
    "\n",
    "\n",
    "X_test_rf = X_test.drop(['twtsrc','usrloc','usrfavs','istext','rtcnt','twtfavs','textlen'], axis = 1)\n",
    "X_train_rf = X_train.drop(['twtsrc','usrloc','usrfavs','istext','rtcnt','twtfavs','textlen'], axis = 1)\n",
    "\n",
    "# Model Creation\n",
    "lr = LogisticRegression()\n",
    "lr.fit(X_train_rf, y_train)\n",
    "y_pred_rf = lr.predict(X_test_rf)\n",
    "\n",
    "logit_roc_auc = roc_auc_score(y_test, y_pred_rf)\n",
    "fpr, tpr, thresholds = roc_curve(y_test, y_pred_rf)\n",
    "plt.figure()\n",
    "plt.plot(fpr, tpr, label='# of user tweets only (area = %0.4f)' % logit_roc_auc)\n",
    "plt.plot([0, 1], [0, 1],'r--')\n",
    "plt.xlim([0.0, 1.0])\n",
    "plt.ylim([0.0, 1.05])\n",
    "plt.xlabel('False Positive Rate')\n",
    "plt.ylabel('True Positive Rate')\n",
    "plt.title('Receiver operating characteristic')\n",
    "plt.legend(loc=\"lower right\")\n",
    "plt.show()"
   ]
  },
  {
   "cell_type": "markdown",
   "metadata": {},
   "source": [
    "This shows that a logistic regression model has a much lower AUC than the Random Forests model. "
   ]
  },
  {
   "cell_type": "code",
   "execution_count": 97,
   "metadata": {},
   "outputs": [
    {
     "name": "stderr",
     "output_type": "stream",
     "text": [
      "C:\\Users\\EvansPC\\Anaconda3\\lib\\site-packages\\sklearn\\linear_model\\logistic.py:433: FutureWarning: Default solver will be changed to 'lbfgs' in 0.22. Specify a solver to silence this warning.\n",
      "  FutureWarning)\n"
     ]
    },
    {
     "data": {
      "image/png": "[encoded data removed]",
      "text/plain": [
       "<Figure size 432x288 with 1 Axes>"
      ]
     },
     "metadata": {
      "needs_background": "light"
     },
     "output_type": "display_data"
    }
   ],
   "source": [
    "X_test_rf = X_test\n",
    "X_train_rf = X_train\n",
    "\n",
    "# Model Creation\n",
    "lr = LogisticRegression()\n",
    "lr.fit(X_train_rf, y_train)\n",
    "y_pred_rf = lr.predict(X_test_rf)\n",
    "\n",
    "logit_roc_auc = roc_auc_score(y_test, y_pred)\n",
    "fpr, tpr, thresholds = roc_curve(y_test, y_pred)\n",
    "plt.figure()\n",
    "plt.plot(fpr, tpr, label='Random Forest (area = %0.4f)' % logit_roc_auc)\n",
    "plt.plot([0, 1], [0, 1],'r--')\n",
    "plt.xlim([0.0, 1.0])\n",
    "plt.ylim([0.0, 1.05])\n",
    "plt.xlabel('False Positive Rate')\n",
    "plt.ylabel('True Positive Rate')\n",
    "plt.title('Receiver operating characteristic')\n",
    "plt.legend(loc=\"lower right\")\n",
    "plt.show()"
   ]
  },
  {
   "cell_type": "markdown",
   "metadata": {},
   "source": [
    "The above confusion matrices show that with tweet metadata it is very easy to predict if someone is famous or not (by the criteria that 1,000,000 plus followers is twitter famous). For the purposes of brevity, the model output was recorded and put into the following lists.   \n",
    "\n",
    "The first model included:  \n",
    "tweet.id\ttextlen\tusrtweets\tusrfavs\tistext  \n",
    "Accuracy 1.00  \n",
    "\n",
    "The second model included:  \n",
    "tweet.id\ttextlen\tusrtweets\tusrfavs\tistext\trtcnt\ttwtfavs  \n",
    "Accuracy 1.00  \n",
    "\n",
    "The third model included:  \n",
    "tweet.id\ttextlen\tistext  \n",
    "Accuracy 0.9979219524803928  \n",
    "\n",
    "The fourth model included:  \n",
    "textlen\tistext  \n",
    "Accuracy 0.636572956133131  \n",
    "\n",
    "The fifth model included:  \n",
    "rtcnt\ttwtfavs  \n",
    "Accuracy 0.9579288906423241  \n",
    "\n",
    "The sixth model included:  \n",
    "usrtweets  \n",
    "Accuracy 1.0  \n",
    "\n",
    "It is relatively easy to get a score above average with twitter's metadata. We can predict that someone is famous from as little as knowing the number of tweets they have. By counting the rt's and favorities someone has we can get a 96.5% accurate model. Now we will try to ignore the metadata and see if there is anything in the content of someone's tweet that will help them achieve twitter fame.   "
   ]
  },
  {
   "cell_type": "markdown",
   "metadata": {},
   "source": [
    "### Word Frequency\n",
    "\n",
    "Below we experimented with how word frequency changes with famous and non-famous people. We took a random sample of 5000 tweets from famous and 5000 from non-famous people to compile our lists. Running the algorithm originally with all of the tweets took over 5 hours and probably wasn't ending anytime soon because the runtime is O(n^2).  \n",
    "\n",
    "We then compare the lists of words and came up with a list of words you should tweet more!"
   ]
  },
  {
   "cell_type": "code",
   "execution_count": 63,
   "metadata": {},
   "outputs": [],
   "source": [
    "famous = df[df['fame'] == 1]\n",
    "not_famous = df[df['fame'] == 0]\n",
    "\n",
    "f = famous['text']\n",
    "nf = not_famous['text']"
   ]
  },
  {
   "cell_type": "code",
   "execution_count": 64,
   "metadata": {},
   "outputs": [],
   "source": [
    "new_f = f.sample(5000)\n",
    "new_nf = f.sample(5000)"
   ]
  },
  {
   "cell_type": "code",
   "execution_count": 65,
   "metadata": {},
   "outputs": [],
   "source": [
    "f_text = []\n",
    "nf_text = []\n",
    "\n",
    "for ftext, nftext in zip(new_f, new_nf):\n",
    "    f_text.extend(ftext.split(' '))\n",
    "    nf_text.extend(nftext.split(' '))"
   ]
  },
  {
   "cell_type": "code",
   "execution_count": 66,
   "metadata": {},
   "outputs": [],
   "source": [
    "#functions found at https://programminghistorian.org/en/lessons/counting-frequencies\n",
    "def wordListToFreqDict(wordlist):\n",
    "    wordfreq = [wordlist.count(p) for p in wordlist]\n",
    "    return dict(zip(wordlist,wordfreq))\n",
    "\n",
    "def sortFreqDict(freqdict):\n",
    "    aux = [(freqdict[key], key) for key in freqdict]\n",
    "    aux.sort()\n",
    "    aux.reverse()\n",
    "    return aux"
   ]
  },
  {
   "cell_type": "code",
   "execution_count": 67,
   "metadata": {},
   "outputs": [],
   "source": [
    "f_freq = wordListToFreqDict(f_text)"
   ]
  },
  {
   "cell_type": "code",
   "execution_count": 68,
   "metadata": {},
   "outputs": [],
   "source": [
    "nf_freq = wordListToFreqDict(nf_text)"
   ]
  },
  {
   "cell_type": "code",
   "execution_count": 89,
   "metadata": {},
   "outputs": [],
   "source": [
    "fame_words = []\n",
    "for key, value in f_freq.items(): \n",
    "    if value > 20 and value < 100:\n",
    "        fame_words.append(key)"
   ]
  },
  {
   "cell_type": "code",
   "execution_count": 88,
   "metadata": {},
   "outputs": [],
   "source": [
    "no_fame = []\n",
    "for key, value in nf_freq.items(): \n",
    "    if value > 20 and value < 100:\n",
    "        no_fame.append(key)"
   ]
  },
  {
   "cell_type": "code",
   "execution_count": 90,
   "metadata": {
    "scrolled": false
   },
   "outputs": [
    {
     "data": {
      "text/plain": [
       "['A',\n",
       " 'very',\n",
       " 'Trump',\n",
       " 'No',\n",
       " '#ThorRagnarok',\n",
       " 'come',\n",
       " 'made',\n",
       " \"I'm\",\n",
       " 'take',\n",
       " '❤️',\n",
       " 'always',\n",
       " 'If',\n",
       " 'he',\n",
       " 'having',\n",
       " 'work',\n",
       " 'available',\n",
       " 'into',\n",
       " 'game',\n",
       " 'Good',\n",
       " 'big',\n",
       " 'last',\n",
       " 'show',\n",
       " 'year',\n",
       " 'would',\n",
       " 'That’s',\n",
       " 'really',\n",
       " 'sure',\n",
       " 'her',\n",
       " 'guys',\n",
       " 'video',\n",
       " 'actually',\n",
       " 'gonna',\n",
       " 'go',\n",
       " 'us',\n",
       " 'it’s',\n",
       " 'make',\n",
       " 'great',\n",
       " 'only',\n",
       " 'today',\n",
       " 'For',\n",
       " 'off',\n",
       " 'every',\n",
       " 'New',\n",
       " 'now!',\n",
       " \"It's\",\n",
       " 'if',\n",
       " 'everyone',\n",
       " 'thing',\n",
       " 'It',\n",
       " 'these',\n",
       " 'were',\n",
       " 'way',\n",
       " 'how',\n",
       " 'it.',\n",
       " 'good',\n",
       " 'where',\n",
       " 'God',\n",
       " 'President',\n",
       " 'know',\n",
       " 'think',\n",
       " 'even',\n",
       " 'people',\n",
       " 'time',\n",
       " 'miss',\n",
       " 'tonight',\n",
       " 'Happy',\n",
       " 'look',\n",
       " 'In',\n",
       " 'doing',\n",
       " 'some',\n",
       " 'What',\n",
       " 'ever',\n",
       " 'then',\n",
       " 'watch',\n",
       " 'next',\n",
       " 'see',\n",
       " 'being',\n",
       " 'or',\n",
       " 'did',\n",
       " 'shit',\n",
       " 'there',\n",
       " 'back',\n",
       " 'should',\n",
       " 'https://t.co/4Iq2qt9WVS',\n",
       " 'need',\n",
       " 'better',\n",
       " 'fuck',\n",
       " 'Love',\n",
       " 'after',\n",
       " 'been',\n",
       " 'got',\n",
       " 'first',\n",
       " 'him',\n",
       " \"it's\",\n",
       " 'don’t',\n",
       " 'going',\n",
       " 'they',\n",
       " 'live',\n",
       " 'too',\n",
       " '@realDonaldTrump',\n",
       " 'Get',\n",
       " 'them',\n",
       " 'American',\n",
       " 'those',\n",
       " 'can’t',\n",
       " 'the…',\n",
       " 'a…',\n",
       " 'day',\n",
       " 'hope',\n",
       " 'tweet',\n",
       " 'Check',\n",
       " '2',\n",
       " 'such',\n",
       " 'right',\n",
       " 'am',\n",
       " 'im',\n",
       " 'than',\n",
       " 'thank',\n",
       " 'when',\n",
       " 'Americans',\n",
       " 'find',\n",
       " 'said',\n",
       " 'It’s',\n",
       " 'over',\n",
       " '1',\n",
       " 'world',\n",
       " 'say',\n",
       " 'many',\n",
       " 'Thanks',\n",
       " 'until',\n",
       " 'no',\n",
       " 'fucking',\n",
       " 'So',\n",
       " 'excited',\n",
       " 'wait',\n",
       " 'real',\n",
       " 'had',\n",
       " 'week',\n",
       " 'Democrats',\n",
       " 'their',\n",
       " 'life',\n",
       " 'still',\n",
       " '10',\n",
       " 'through',\n",
       " 'never',\n",
       " 'keep',\n",
       " 'happy',\n",
       " 'THE',\n",
       " 'years',\n",
       " 'Just',\n",
       " 'much',\n",
       " 'best',\n",
       " 'You',\n",
       " 'here',\n",
       " 'she',\n",
       " 'its',\n",
       " 'tomorrow',\n",
       " 'night',\n",
       " 'America',\n",
       " 'why',\n",
       " 'lol',\n",
       " 'coming',\n",
       " '-',\n",
       " \"don't\",\n",
       " 'As',\n",
       " 'House',\n",
       " 'Surprise!',\n",
       " 'fun.',\n",
       " '#Thorsday',\n",
       " '⚡️',\n",
       " 'most',\n",
       " 'And',\n",
       " 'want',\n",
       " 'any',\n",
       " 'working',\n",
       " 'hard',\n",
       " 'because',\n",
       " 'I’ll',\n",
       " 'tell',\n",
       " '#KUWTK',\n",
       " 'White',\n",
       " 'family',\n",
       " 'feel',\n",
       " '@',\n",
       " 'down',\n",
       " 'since',\n",
       " 'beautiful',\n",
       " 'dont',\n",
       " 'Marvel',\n",
       " 'getting',\n",
       " 'When',\n",
       " 't…',\n",
       " 'before',\n",
       " '3',\n",
       " 'while',\n",
       " 'other',\n",
       " 'could']"
      ]
     },
     "execution_count": 90,
     "metadata": {},
     "output_type": "execute_result"
    }
   ],
   "source": [
    "s_nf = set(no_fame)\n",
    "common = [x for x in fame_words if x in s_nf]\n",
    "common"
   ]
  },
  {
   "cell_type": "markdown",
   "metadata": {},
   "source": [
    "Above shows words that famous and non-famous people both often tweet.\n",
    "\n",
    "Below is words that famous people tweet more often than non-famous people. "
   ]
  },
  {
   "cell_type": "code",
   "execution_count": 91,
   "metadata": {},
   "outputs": [
    {
     "data": {
      "text/plain": [
       "['bad',\n",
       " 'same',\n",
       " 'put',\n",
       " 'ass',\n",
       " 'One',\n",
       " 'days',\n",
       " 'more',\n",
       " 'They',\n",
       " 'his',\n",
       " 'MY',\n",
       " 'Watch',\n",
       " 'own',\n",
       " 'do',\n",
       " 'See',\n",
       " 'start',\n",
       " 'theaters',\n",
       " 'old',\n",
       " 'favorite',\n",
       " 'lot',\n",
       " 'man',\n",
       " 'tickets',\n",
       " 'part',\n",
       " 'th…',\n",
       " 'proud',\n",
       " 'How',\n",
       " 'must',\n",
       " 'u',\n",
       " 'border',\n",
       " 'wanna',\n",
       " 'baby',\n",
       " 'Tune',\n",
       " 'mom',\n",
       " 'Item',\n",
       " 'you’re',\n",
       " 'give',\n",
       " 'fun',\n",
       " 'free',\n",
       " 'making']"
      ]
     },
     "execution_count": 91,
     "metadata": {},
     "output_type": "execute_result"
    }
   ],
   "source": [
    "s_nf = set(no_fame)\n",
    "not_common = [x for x in fame_words if x not in s_nf]\n",
    "not_common"
   ]
  },
  {
   "cell_type": "markdown",
   "metadata": {},
   "source": [
    "## Conclusion\n",
    "\n",
    "When it comes to the twitter metadata usrfavs, twtfavs, rtcnt, usrtweets, and usrloc were the most important factors. Together they can create a Random Forest model that had 1.00 accuracy on our dataset of 1,475,424 tweets.\n",
    "\n",
    "If you want to tweet words that were more often tweeted by famous people you should tweet,  \n",
    "\"MY mom is bad ass, Watch in theaters baby\" - LOL  \n",
    "\n",
    "For future analysis, I would want to experiment with word phrases rather than individual words. Also, I would rather run the data on a larger dataset for the word association part, but due to time constraints we were unable to do so. "
   ]
  }
 ],
 "metadata": {
  "kernelspec": {
   "display_name": "Python 3",
   "language": "python",
   "name": "python3"
  },
  "language_info": {
   "codemirror_mode": {
    "name": "ipython",
    "version": 3
   },
   "file_extension": ".py",
   "mimetype": "text/x-python",
   "name": "python",
   "nbconvert_exporter": "python",
   "pygments_lexer": "ipython3",
   "version": "3.7.1"
  }
 },
 "nbformat": 4,
 "nbformat_minor": 2
}
